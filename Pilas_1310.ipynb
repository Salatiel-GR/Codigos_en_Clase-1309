{
  "nbformat": 4,
  "nbformat_minor": 0,
  "metadata": {
    "colab": {
      "name": "Pilas_1310.ipynb",
      "provenance": [],
      "authorship_tag": "ABX9TyPHalWez5UJhXspxCOdXhGS",
      "include_colab_link": true
    },
    "kernelspec": {
      "name": "python3",
      "display_name": "Python 3"
    },
    "language_info": {
      "name": "python"
    }
  },
  "cells": [
    {
      "cell_type": "markdown",
      "metadata": {
        "id": "view-in-github",
        "colab_type": "text"
      },
      "source": [
        "<a href=\"https://colab.research.google.com/github/Salatiel-GR/Codigos_en_Clase-1310/blob/main/Pilas_1310.ipynb\" target=\"_parent\"><img src=\"https://colab.research.google.com/assets/colab-badge.svg\" alt=\"Open In Colab\"/></a>"
      ]
    },
    {
      "cell_type": "code",
      "metadata": {
        "id": "smb1v_yvM2jM"
      },
      "source": [
        "class StackADT:\n",
        "    def __init__( self ):\n",
        "        self.__data = list()\n",
        "\n",
        "    #regresa true si la lista esta vacia\n",
        "    def is_empty( self ):\n",
        "         return len (self.__data) == 0\n",
        "\n",
        "    def get_length( self ):\n",
        "        return len ( self.__data )\n",
        "\n",
        "    def pop( self ):\n",
        "        if self.is_empty():\n",
        "            print(\"Pila vacia, nada que sacar\")\n",
        "        else:\n",
        "            return self.__data.pop()\n",
        "    def peek( self ):\n",
        "        if self.is_empty():\n",
        "            print(\"Pila vacia, nada que sacar\")\n",
        "        else:\n",
        "            return self.__data[ -1 ]\n",
        "    def push( self , value ):\n",
        "        self.__data.append( value )\n",
        "    def to_string( self ):\n",
        "        for item in self.__data[::-1]:\n",
        "            print(f\" | {item} | \")\n",
        "\n",
        "\n",
        "\n"
      ],
      "execution_count": 3,
      "outputs": []
    },
    {
      "cell_type": "code",
      "metadata": {
        "colab": {
          "base_uri": "https://localhost:8080/"
        },
        "id": "UE2GNAzhQgSh",
        "outputId": "c575f05f-9def-4923-94f2-536cb0d99979"
      },
      "source": [
        "pila = StackADT()\n",
        "print(\"Esta vacia? =\" , pila.is_empty() )\n",
        "print(\"# elementos:\"  , pila.get_length() )\n",
        "pila.push(10)\n",
        "print(\"Esta vacia? =\" , pila.is_empty() )\n",
        "print(\"# elementos:\"  , pila.get_length() )\n",
        "pila.push(20)\n",
        "pila.push(30)\n",
        "pila.push(40)\n",
        "pila.to_string()\n",
        "print(pila.pop())  #40\n",
        "print(pila.peek()) #30\n",
        "pila.to_string()"
      ],
      "execution_count": null,
      "outputs": [
        {
          "output_type": "stream",
          "name": "stdout",
          "text": [
            "Esta vacia? = True\n",
            "# elementos: 0\n",
            "Esta vacia? = False\n",
            "# elementos: 1\n",
            " | 40 | \n",
            " | 30 | \n",
            " | 20 | \n",
            " | 10 | \n",
            "40\n",
            "30\n",
            " | 30 | \n",
            " | 20 | \n",
            " | 10 | \n"
          ]
        }
      ]
    },
    {
      "cell_type": "markdown",
      "metadata": {
        "id": "iD-3OVrDykOT"
      },
      "source": [
        "#Aplicacion de pilas, balanceo de llaves en programación"
      ]
    },
    {
      "cell_type": "code",
      "metadata": {
        "colab": {
          "base_uri": "https://localhost:8080/"
        },
        "id": "qmRaVo05zOqL",
        "outputId": "5a81e760-e494-4063-83f2-3b00f59c5e8e"
      },
      "source": [
        "!cat prog.txt"
      ],
      "execution_count": 5,
      "outputs": [
        {
          "output_type": "stream",
          "name": "stdout",
          "text": [
            "#include <stdio.h>\r\n",
            "int main()\r\n",
            "{\r\n",
            "    int num, count, sum = 0;\r\n",
            "\r\n",
            "    printf(\"Enter a positive integer: \");\r\n",
            "    scanf(\"%d\", &num);\r\n",
            "\r\n",
            "    // for loop terminates when num is less than count\r\n",
            "    for(count = 1; count <= num; ++count)\r\n",
            "    {\r\n",
            "        sum += count;\r\n",
            "    }\r\n",
            "\r\n",
            "    printf(\"Sum = %d\", sum);\r\n",
            "\r\n",
            "    return 0;\r\n",
            "}"
          ]
        }
      ]
    },
    {
      "cell_type": "code",
      "metadata": {
        "colab": {
          "base_uri": "https://localhost:8080/"
        },
        "id": "gT1stUNfzyuy",
        "outputId": "fc08afd7-3944-4e55-dc14-33342a88c774"
      },
      "source": [
        "entrada = open ('prog.txt' , 'rt')\n",
        "codigo =  entrada.read()\n",
        "#print(codigo)\n",
        "pilaControl = StackADT()\n",
        "pilaControl.push(\"#\") #caracter de pila vacia   \n",
        "\n",
        "for letra in codigo:\n",
        "    #print (f\"--->{letra}<---\")\n",
        "    if letra == '{': #regla 1\n",
        "        pilaControl.push(\"{\")\n",
        "    elif letra == '}': #regla 2\n",
        "        basura = pilaControl.pop()\n",
        "    else:\n",
        "        pass\n",
        "\n",
        "#NOTA: Este código aún no contempla desvalanceo de más llaves de cierre\n",
        "\n",
        "if pilaControl.peek() == '#':\n",
        "    print(\"El código proporcionado está correctamente balanceado\")\n",
        "else:\n",
        "    print(\"El código no está balanceado en llaves { y }\")\n"
      ],
      "execution_count": 7,
      "outputs": [
        {
          "output_type": "stream",
          "name": "stdout",
          "text": [
            "El código no está balanceado en llaves { y }\n"
          ]
        }
      ]
    },
    {
      "cell_type": "markdown",
      "metadata": {
        "id": "-4zTjqWE7IV7"
      },
      "source": [
        "#AplicaciÓn de Pilas.\n",
        "\n",
        "Estrategia de diseño de algoritmos BACKTRACKING"
      ]
    }
  ]
}