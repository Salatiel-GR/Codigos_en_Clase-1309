{
  "nbformat": 4,
  "nbformat_minor": 0,
  "metadata": {
    "colab": {
      "name": "colas_1310.ipynb",
      "provenance": [],
      "authorship_tag": "ABX9TyOw9LyxJRtCv/Yewk+b8wq8",
      "include_colab_link": true
    },
    "kernelspec": {
      "name": "python3",
      "display_name": "Python 3"
    },
    "language_info": {
      "name": "python"
    }
  },
  "cells": [
    {
      "cell_type": "markdown",
      "metadata": {
        "id": "view-in-github",
        "colab_type": "text"
      },
      "source": [
        "<a href=\"https://colab.research.google.com/github/Salatiel-GR/Codigos_en_Clase-1310/blob/main/colas_1310.ipynb\" target=\"_parent\"><img src=\"https://colab.research.google.com/assets/colab-badge.svg\" alt=\"Open In Colab\"/></a>"
      ]
    },
    {
      "cell_type": "code",
      "metadata": {
        "id": "utuFWwm1K41O"
      },
      "source": [
        "class Queue:\n",
        "    def __init__ ( self ):\n",
        "        self.data = []\n",
        "\n",
        "    def is_empty ( self ):\n",
        "        return len( self.data ) == 0\n",
        "\n",
        "    def length ( self ):\n",
        "        return len (self.data)\n",
        "\n",
        "    def enqueue( self , value):\n",
        "        self.data.append( value ) \n",
        "\n",
        "    def dequeue( self ):\n",
        "        return self.data.pop(0)\n",
        "    \n",
        "    def to_string( self ):\n",
        "        for elem in self.data:\n",
        "            print(f\"| { elem } | <--\" , end = \"\"   )\n",
        "        print(\"\")\n",
        "\n",
        "\n"
      ],
      "execution_count": 10,
      "outputs": []
    },
    {
      "cell_type": "code",
      "metadata": {
        "colab": {
          "base_uri": "https://localhost:8080/"
        },
        "id": "oNjge-lhNoQW",
        "outputId": "0d4a22a0-e650-449b-c994-7e3812f97e16"
      },
      "source": [
        "cola = Queue()\n",
        "print(\"Está vacio:???\" , cola.is_empty())\n",
        "print(\"número de elemento = \" , cola.length())\n",
        "cola.enqueue(10)\n",
        "cola.enqueue(20)\n",
        "cola.enqueue(30)\n",
        "print(\"Está vacio:???\" , cola.is_empty())\n",
        "print(\"número de elemento = \" , cola.length())\n",
        "cola.enqueue(40)\n",
        "cola.enqueue(50)\n",
        "cola.enqueue(60)\n",
        "cola.to_string()\n",
        "siguiente = cola.dequeue()\n",
        "print(\"Atendimiento a:\" , siguiente)\n",
        "cola.to_string()"
      ],
      "execution_count": 11,
      "outputs": [
        {
          "output_type": "stream",
          "name": "stdout",
          "text": [
            "Está vacio:??? True\n",
            "número de elemento =  0\n",
            "Está vacio:??? False\n",
            "número de elemento =  3\n",
            "| 10 | <--| 20 | <--| 30 | <--| 40 | <--| 50 | <--| 60 | <--\n",
            "Atendimiento a: 10\n",
            "| 20 | <--| 30 | <--| 40 | <--| 50 | <--| 60 | <--\n"
          ]
        }
      ]
    },
    {
      "cell_type": "markdown",
      "metadata": {
        "id": "rkAG2-ihQ4HV"
      },
      "source": [
        "#Variantes del ADT Cola\n",
        "\n",
        "1. Circulares\n",
        "2. Prioridad\n",
        "    1. acotada\n",
        "    2. no acotada"
      ]
    }
  ]
}