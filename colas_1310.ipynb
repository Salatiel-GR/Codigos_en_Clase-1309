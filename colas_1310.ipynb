{
  "nbformat": 4,
  "nbformat_minor": 0,
  "metadata": {
    "colab": {
      "name": "colas_1310.ipynb",
      "provenance": [],
      "authorship_tag": "ABX9TyNk0FqplW+UysARosWJPcVd",
      "include_colab_link": true
    },
    "kernelspec": {
      "name": "python3",
      "display_name": "Python 3"
    },
    "language_info": {
      "name": "python"
    }
  },
  "cells": [
    {
      "cell_type": "markdown",
      "metadata": {
        "id": "view-in-github",
        "colab_type": "text"
      },
      "source": [
        "<a href=\"https://colab.research.google.com/github/Salatiel-GR/Codigos_en_Clase-1310/blob/main/colas_1310.ipynb\" target=\"_parent\"><img src=\"https://colab.research.google.com/assets/colab-badge.svg\" alt=\"Open In Colab\"/></a>"
      ]
    },
    {
      "cell_type": "code",
      "metadata": {
        "id": "utuFWwm1K41O"
      },
      "source": [
        "class Queue:\n",
        "    def __init__ ( self ):\n",
        "        self.data = []\n",
        "\n",
        "    def is_empty ( self ):\n",
        "        return len( self.data ) == 0\n",
        "\n",
        "    def length ( self ):\n",
        "        return len (self.data)\n",
        "\n",
        "    def enqueue( self , value):\n",
        "        self.data.append( value ) \n",
        "\n",
        "    def dequeue( self ):\n",
        "        return self.data.pop(0)\n",
        "    \n",
        "    def to_string( self ):\n",
        "        for elem in self.data:\n",
        "            print(f\"| { elem } | <--\" , end = \"\"   )\n",
        "        print(\"\")\n",
        "\n",
        "\n"
      ],
      "execution_count": 1,
      "outputs": []
    },
    {
      "cell_type": "code",
      "metadata": {
        "colab": {
          "base_uri": "https://localhost:8080/"
        },
        "id": "oNjge-lhNoQW",
        "outputId": "6fd38a7d-4764-4150-d1c9-198ec8156363"
      },
      "source": [
        "cola = Queue()\n",
        "print(\"Está vacio:???\" , cola.is_empty())\n",
        "print(\"número de elemento = \" , cola.length())\n",
        "cola.enqueue(10)\n",
        "cola.enqueue(20)\n",
        "cola.enqueue(30)\n",
        "print(\"Está vacio:???\" , cola.is_empty())\n",
        "print(\"número de elemento = \" , cola.length())\n",
        "cola.enqueue(40)\n",
        "cola.enqueue(50)\n",
        "cola.enqueue(60)\n",
        "cola.to_string()\n",
        "siguiente = cola.dequeue()\n",
        "print(\"Atendimiento a:\" , siguiente)\n",
        "cola.to_string()"
      ],
      "execution_count": 2,
      "outputs": [
        {
          "output_type": "stream",
          "name": "stdout",
          "text": [
            "Está vacio:??? True\n",
            "número de elemento =  0\n",
            "Está vacio:??? False\n",
            "número de elemento =  3\n",
            "| 10 | <--| 20 | <--| 30 | <--| 40 | <--| 50 | <--| 60 | <--\n",
            "Atendimiento a: 10\n",
            "| 20 | <--| 30 | <--| 40 | <--| 50 | <--| 60 | <--\n"
          ]
        }
      ]
    },
    {
      "cell_type": "markdown",
      "metadata": {
        "id": "rkAG2-ihQ4HV"
      },
      "source": [
        "#Variantes del ADT Cola\n",
        "\n",
        "1. Circulares\n",
        "2. Prioridad\n",
        "    1. acotada\n",
        "    2. no acotada"
      ]
    },
    {
      "cell_type": "code",
      "metadata": {
        "id": "Csi7dh7gDuje"
      },
      "source": [
        "#Implementacion de la cola de prioridad acotada\n",
        "class BoundedPriorityQueue:\n",
        "    def __init__( self , niveles ):\n",
        "        self.__data = [ Queue() for x in range(niveles) ]\n",
        "        #self.__data = Array(niveles)Implementar con arreglos \n",
        "        #self.__data.clear( Queue() )\n",
        "        self.__size = 0 #Almacenar el número de elementos ya ingresados en la estructura\n",
        "    \n",
        "    def is_empty( self ):\n",
        "        return self.__size == 0\n",
        "    \n",
        "    def length( self ):\n",
        "        return self.__size\n",
        "\n",
        "    def enqueue( self , prioridad, elem):\n",
        "        if prioridad < len( self.__data ) \\\n",
        "           and prioridad >= 0:\n",
        "           self.__data[ prioridad ].enqueue(elem )\n",
        "           self.__size += 1\n",
        "\n",
        "    def dequeue ( self ):\n",
        "        nivel = 0\n",
        "        while self.__data[nivel].is_empty() \\\n",
        "              and nivel < self.length():\n",
        "            nivel += 1\n",
        "        if nivel >= self.length():\n",
        "            print(\"Cola vacía\")\n",
        "        else:\n",
        "            return self.__data[nivel].dequeue()\n",
        "    def to_string( self ):\n",
        "        prioridad = 0\n",
        "        for cola in self.__data:\n",
        "            print(f\"Prioridad {prioridad} -->\" , end=\"\")\n",
        "            cola.to_string()\n",
        "            prioridad += 1\n",
        "    \n",
        "\n"
      ],
      "execution_count": 23,
      "outputs": []
    },
    {
      "cell_type": "code",
      "metadata": {
        "colab": {
          "base_uri": "https://localhost:8080/"
        },
        "id": "n3kobdJlMq9B",
        "outputId": "79621118-7e4b-4698-bdd1-4882aa846c60"
      },
      "source": [
        "# prueba de la cola con prioridad \n",
        "salvavidas = BoundedPriorityQueue( 7 )\n",
        "salvavidas.enqueue( 4, \"Maestre\")\n",
        "salvavidas.enqueue( 1, \"Niños\")\n",
        "salvavidas.enqueue( 4, \"Mecánico\")\n",
        "salvavidas.enqueue( 3, \"Mujeres\")\n",
        "salvavidas.enqueue( 2, \"Tercera edad\")\n",
        "salvavidas.enqueue( 1, \"Niñas\")\n",
        "salvavidas.enqueue( 3, \"Hombres\")\n",
        "salvavidas.enqueue( 4, \"Vigia\")\n",
        "salvavidas.enqueue( 5, \"Capitán\")\n",
        "salvavidas.enqueue( 4, \"Timonel\")\n",
        "salvavidas.to_string()\n",
        "sig = salvavidas.dequeue()\n",
        "print(f\"Subiendo { sig } al bote salvavidas!!\")\n",
        "salvavidas.to_string()\n",
        "print(\"-.-.-.\")\n",
        "sig = salvavidas.dequeue()\n",
        "print(f\"Subiendo { sig } al bote salvavidas!!\")\n",
        "salvavidas.to_string()"
      ],
      "execution_count": 25,
      "outputs": [
        {
          "output_type": "stream",
          "name": "stdout",
          "text": [
            "Prioridad 0 -->\n",
            "Prioridad 1 -->| Niños | <--| Niñas | <--\n",
            "Prioridad 2 -->| Tercera edad | <--\n",
            "Prioridad 3 -->| Mujeres | <--| Hombres | <--\n",
            "Prioridad 4 -->| Maestre | <--| Mecánico | <--| Vigia | <--| Timonel | <--\n",
            "Prioridad 5 -->| Capitán | <--\n",
            "Prioridad 6 -->\n",
            "Subiendo Niños al bote salvavidas!!\n",
            "Prioridad 0 -->\n",
            "Prioridad 1 -->| Niñas | <--\n",
            "Prioridad 2 -->| Tercera edad | <--\n",
            "Prioridad 3 -->| Mujeres | <--| Hombres | <--\n",
            "Prioridad 4 -->| Maestre | <--| Mecánico | <--| Vigia | <--| Timonel | <--\n",
            "Prioridad 5 -->| Capitán | <--\n",
            "Prioridad 6 -->\n",
            "-.-.-.\n",
            "Subiendo Niñas al bote salvavidas!!\n",
            "Prioridad 0 -->\n",
            "Prioridad 1 -->\n",
            "Prioridad 2 -->| Tercera edad | <--\n",
            "Prioridad 3 -->| Mujeres | <--| Hombres | <--\n",
            "Prioridad 4 -->| Maestre | <--| Mecánico | <--| Vigia | <--| Timonel | <--\n",
            "Prioridad 5 -->| Capitán | <--\n",
            "Prioridad 6 -->\n"
          ]
        }
      ]
    },
    {
      "cell_type": "code",
      "metadata": {
        "id": "DLio6itPR2eJ"
      },
      "source": [
        "#implementación de las colas de prioridad sin acotamiento\n",
        "class PriorityQueue:\n",
        "    def __init__( self):\n",
        "        self.__data = []\n",
        "        self.__size = 0\n",
        "\n",
        "    def is_empty( self ):\n",
        "        return self.__size == 0\n",
        "    \n",
        "    def length( self ):\n",
        "        return self.__size\n",
        "\n",
        "    def enqueue(self , prioridad , elem):\n",
        "        existe = False\n",
        "        indice = 0\n",
        "        for index in range(len(self.__data)):\n",
        "            if self.__data[index][ \"prioridad\" ] == prioridad:\n",
        "                existe = True\n",
        "                indice = index\n",
        "\n",
        "        if existe:\n",
        "            self.__data[indice][\"cola\"].enqueue(elem)\n",
        "        else:\n",
        "            self.__data.append( {\"prioridad\" :prioridad , \"cola\" : Queue() }  )\n",
        "            self.__data[-1][\"cola\"].enqueue(elem)\n",
        "\n",
        "    def to_string( self ):\n",
        "        for cola in self.__data:\n",
        "            cola[\"cola\"].to_string()\n",
        "\n",
        "\n"
      ],
      "execution_count": 31,
      "outputs": []
    },
    {
      "cell_type": "code",
      "metadata": {
        "colab": {
          "base_uri": "https://localhost:8080/"
        },
        "id": "h98dF8LEWzX6",
        "outputId": "68963853-7a4a-43a4-ecd3-0acc62541d43"
      },
      "source": [
        "cp = PriorityQueue()\n",
        "cp.enqueue(1,\"niñas\")\n",
        "cp.enqueue(2,\"niños\")\n",
        "cp.enqueue(2,\"Profesores\")\n",
        "cp.enqueue(0, \"presidente de EU\")\n",
        "cp.enqueue(1000, \"presidente de MX\")\n",
        "cp.to_string()"
      ],
      "execution_count": 33,
      "outputs": [
        {
          "output_type": "stream",
          "name": "stdout",
          "text": [
            "| niñas | <--\n",
            "| niños | <--| Profesores | <--\n",
            "| presidente de EU | <--\n",
            "| presidente de MX | <--\n"
          ]
        }
      ]
    }
  ]
}