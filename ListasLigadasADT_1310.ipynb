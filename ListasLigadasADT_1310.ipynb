{
  "nbformat": 4,
  "nbformat_minor": 0,
  "metadata": {
    "colab": {
      "name": "ListasLigadasADT_1310.ipynb",
      "provenance": [],
      "authorship_tag": "ABX9TyODziQtryOQcZYrb9smhsQ+",
      "include_colab_link": true
    },
    "kernelspec": {
      "name": "python3",
      "display_name": "Python 3"
    },
    "language_info": {
      "name": "python"
    }
  },
  "cells": [
    {
      "cell_type": "markdown",
      "metadata": {
        "id": "view-in-github",
        "colab_type": "text"
      },
      "source": [
        "<a href=\"https://colab.research.google.com/github/Salatiel-GR/Codigos_en_Clase-1309/blob/main/ListasLigadasADT_1310.ipynb\" target=\"_parent\"><img src=\"https://colab.research.google.com/assets/colab-badge.svg\" alt=\"Open In Colab\"/></a>"
      ]
    },
    {
      "cell_type": "markdown",
      "metadata": {
        "id": "xMh1WzNt0wtd"
      },
      "source": [
        "#Ejercicio en la clase Nodo\n",
        "\n",
        "- Crear un Nodo\n",
        "  -Imprimir el valor del nodo\n",
        "\n",
        "- Crear 2 nodos\n",
        "  -Imprimir el valor del primero\n",
        "  -Imprimir el valor del segundo\n",
        "  -Transversal\n",
        "-Lo mismo pero con 4 nodos 10,20,30,40\n",
        "   -Imprimir el valor del primero\n",
        "   -imprimir el valor del ultimo\n",
        "   -transversal\n",
        "   -Insertar el Nodo 25 despues del Nodo 20 y antes del nodo 30\n",
        "\n",
        "###Todo esto antes de ir a la escritura formal del ADT Lista Ligada\n"
      ]
    },
    {
      "cell_type": "code",
      "metadata": {
        "id": "xY3CsfOt1gIW"
      },
      "source": [
        "class Nodo:\n",
        "    def __init__(self, value, siguiente = None):\n",
        "        self.data = value\n",
        "        self.next = siguiente"
      ],
      "execution_count": 1,
      "outputs": []
    },
    {
      "cell_type": "code",
      "metadata": {
        "colab": {
          "base_uri": "https://localhost:8080/"
        },
        "id": "T-ofQczQ19ry",
        "outputId": "ecfaea4d-2c13-4de0-8dda-650ee2de5cd0"
      },
      "source": [
        "head = Nodo(10)\n",
        "print( head.data )"
      ],
      "execution_count": 2,
      "outputs": [
        {
          "output_type": "stream",
          "name": "stdout",
          "text": [
            "10\n"
          ]
        }
      ]
    },
    {
      "cell_type": "code",
      "metadata": {
        "colab": {
          "base_uri": "https://localhost:8080/"
        },
        "id": "mCdm8zoO2eUP",
        "outputId": "a75e79cc-e525-41b2-b9e8-7b3432e2deaf"
      },
      "source": [
        "head = Nodo(10)\n",
        "head.next = Nodo(20)\n",
        "print(f\"Primero={head.data}\")\n",
        "print(f\"Segundo={head.next.data}\")\n",
        "\n",
        "#Lo mismo pero ahorrando codigo\n",
        "head = Nodo(10, Nodo(20))\n",
        "print(f\"Primero={head.data}\")\n",
        "print(f\"Segundo={head.next.data}\")\n",
        "\n",
        "#Transversal\n",
        "curr_node = head\n",
        "while curr_node != None:\n",
        "    print(f\"| {curr_node.data} | -->\" , end=\"\" )\n",
        "    curr_node = curr_node.next\n",
        "print(\"\")\n",
        "\n",
        "\n",
        "\n",
        "\n",
        "\n",
        "\n"
      ],
      "execution_count": 3,
      "outputs": [
        {
          "output_type": "stream",
          "name": "stdout",
          "text": [
            "Primero=10\n",
            "Segundo=20\n",
            "Primero=10\n",
            "Segundo=20\n",
            "| 10 | -->| 20 | -->\n"
          ]
        }
      ]
    },
    {
      "cell_type": "code",
      "metadata": {
        "colab": {
          "base_uri": "https://localhost:8080/"
        },
        "id": "Kppat0PI6-jS",
        "outputId": "d21de098-bc51-4d15-e7f5-acac66e774af"
      },
      "source": [
        "\n",
        "head = Nodo(10,Nodo(20,Nodo(30,Nodo(40))))\n",
        "#nodo(valor, siguiente)\n",
        "#transversal\n",
        "curr_node = head\n",
        "while curr_node != None:\n",
        "    print(f\"| {curr_node.data} | -->\" , end=\"\" )\n",
        "    curr_node = curr_node.next\n",
        "print(\"\")\n",
        "\n",
        "#Imprimir el primero\n",
        "print(head.data)\n",
        "#Imprimir el ultimo\n",
        "curr_node = head\n",
        "while curr_node.next !=None:\n",
        "    curr_node= curr_node.next\n",
        "print(curr_node.data)\n",
        "\n",
        "#Insertar el Nodo 25 despues del Nodo 20 y antes del nodo 30\n",
        "curr_node = head\n",
        "while curr_node.data != 20:\n",
        "    curr_node= curr_node.next\n",
        "print(curr_node.data)\n",
        "\n",
        "#crear el nodo 25\n",
        "curr_node.next = Nodo(25,curr_node.next)\n",
        "print(\"Despues de insertar 25\")\n",
        "#transversal\n",
        "curr_node = head\n",
        "while curr_node != None:\n",
        "    print(f\"| {curr_node.data} | -->\" , end=\"\" )\n",
        "    curr_node = curr_node.next\n",
        "print(\"\")\n",
        "\n"
      ],
      "execution_count": 5,
      "outputs": [
        {
          "output_type": "stream",
          "name": "stdout",
          "text": [
            "| 10 | -->| 20 | -->| 30 | -->| 40 | -->\n",
            "10\n",
            "40\n",
            "20\n",
            "Despues de insertar 25\n",
            "| 10 | -->| 20 | -->| 25 | -->| 30 | -->| 40 | -->\n"
          ]
        }
      ]
    },
    {
      "cell_type": "code",
      "metadata": {
        "colab": {
          "base_uri": "https://localhost:8080/"
        },
        "id": "YdjoECXhckSA",
        "outputId": "cbd1ca67-de63-48f4-dd11-409e42a27382"
      },
      "source": [
        "a = 10\n",
        "b = 20\n",
        "c = 15\n",
        "c = c + a\n",
        "#c?\n",
        "\n",
        "c = (c+a)* b\n",
        "print(c)"
      ],
      "execution_count": 40,
      "outputs": [
        {
          "output_type": "stream",
          "name": "stdout",
          "text": [
            "700\n"
          ]
        }
      ]
    },
    {
      "cell_type": "code",
      "metadata": {
        "id": "T0hH7HkZc48b"
      },
      "source": [
        "class Nodo:\n",
        "    def __init__(self, value, siguiente = None):\n",
        "        self.data = value\n",
        "        self.next = siguiente\n",
        "\n",
        "\n",
        "class LinkedList:\n",
        "    def __init__(self):\n",
        "        self.head= None\n",
        "\n",
        "    def is_empty(self):\n",
        "        return self.head ==None\n",
        "    def get_tail(self):\n",
        "        if self.is_empty():\n",
        "            return None\n",
        "        else:\n",
        "             curr_node = self.head\n",
        "             while curr_node.next  !=None:\n",
        "                 curr_node = curr_node.next\n",
        "             return curr_node\n",
        "    def append(self , value):\n",
        "        if self.head == None:\n",
        "            self.head =Nodo(value)\n",
        "        else:\n",
        "             curr_node = self.head\n",
        "             while curr_node.next != None:\n",
        "                 curr_node = curr_node.next\n",
        "             curr_node.next =Nodo(value)\n",
        "\n",
        "    def transversal(self):\n",
        "        curr_node = self.head\n",
        "        while curr_node  != None:\n",
        "            print(f\"|{curr_node.data} | --->\" , end=\"\")\n",
        "            curr_node = curr_node.next\n",
        "        print(\"\")\n",
        "    def remove (self, value):\n",
        "        if self.head ==None:\n",
        "            print(\"Lista vacia, no se puede remover nada\")\n",
        "        else:\n",
        "            curr_node = self.head\n",
        "            aux=None\n",
        "            while curr_node.data != value: #revisar cuando el valor no exista\n",
        "                aux=curr_node\n",
        "                curr_node = curr_node.next\n",
        "            \n",
        "            if curr_node  != None:\n",
        "                aux.next = curr_node.next\n",
        "                curr_node = None\n",
        "\n",
        "    def preppend(self , value):\n",
        "        if self.head == None:\n",
        "            print(\"Esta vacio, no se puede hacer prepend\")\n",
        "        else:\n",
        "            aux= self.head\n",
        "            self.head = Nodo(value , aux)\n",
        "\n",
        "\n",
        "\n"
      ],
      "execution_count": 44,
      "outputs": []
    },
    {
      "cell_type": "code",
      "metadata": {
        "colab": {
          "base_uri": "https://localhost:8080/"
        },
        "id": "Pewn_IQyfeHB",
        "outputId": "0564dfc0-6ee5-4a45-b08e-98f9b6a9704d"
      },
      "source": [
        "lista = LinkedList()\n",
        "if lista.is_empty():\n",
        "    print(\"La lista esta vacia\")\n",
        "else:\n",
        "    print(\"La lista no esta vacia\")\n",
        "\n",
        "lista.append(10)\n",
        "lista.append(20)\n",
        "lista.append(30)\n",
        "lista.append(40)\n",
        "lista.append(50)\n",
        "nodo = lista.get_tail()\n",
        "if nodo != None:\n",
        "    print(nodo.data)\n",
        "else:\n",
        "    print(\"Lista esta vacia\")\n",
        "\n",
        "lista.transversal()\n",
        "lista.remove(30)\n",
        "lista.transversal()\n",
        "lista.preppend(5)\n",
        "print(\"Despues del preppend\")\n",
        "lista.transversal()\n"
      ],
      "execution_count": 50,
      "outputs": [
        {
          "output_type": "stream",
          "name": "stdout",
          "text": [
            "La lista esta vacia\n",
            "50\n",
            "|10 | --->|20 | --->|30 | --->|40 | --->|50 | --->\n",
            "|10 | --->|20 | --->|40 | --->|50 | --->\n",
            "Despues del preppend\n",
            "|5 | --->|10 | --->|20 | --->|40 | --->|50 | --->\n"
          ]
        }
      ]
    }
  ]
}