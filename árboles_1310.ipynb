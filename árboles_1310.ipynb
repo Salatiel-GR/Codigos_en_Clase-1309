{
  "nbformat": 4,
  "nbformat_minor": 0,
  "metadata": {
    "colab": {
      "name": "árboles_1310.ipynb",
      "provenance": [],
      "collapsed_sections": [],
      "authorship_tag": "ABX9TyOjBo3RspXhEmStjgJwt2Im",
      "include_colab_link": true
    },
    "kernelspec": {
      "name": "python3",
      "display_name": "Python 3"
    },
    "language_info": {
      "name": "python"
    }
  },
  "cells": [
    {
      "cell_type": "markdown",
      "metadata": {
        "id": "view-in-github",
        "colab_type": "text"
      },
      "source": [
        "<a href=\"https://colab.research.google.com/github/Salatiel-GR/Codigos_en_Clase-1310/blob/main/%C3%A1rboles_1310.ipynb\" target=\"_parent\"><img src=\"https://colab.research.google.com/assets/colab-badge.svg\" alt=\"Open In Colab\"/></a>"
      ]
    },
    {
      "cell_type": "code",
      "metadata": {
        "id": "sztlrWsTCRPj"
      },
      "source": [
        "class NodoBinario:\n",
        "    def __init__(self , value , left=None , rigth=None ):\n",
        "        self.data = value\n",
        "        self.left = left\n",
        "        self.rigth = rigth\n",
        "        \n",
        "class NodoTernario:\n",
        "    def __init__(self , value , left = None ,  center=None , rigth=None ):\n",
        "        self.data = value\n",
        "        self.left = left\n",
        "        self.center = center\n",
        "        self.rigth = rigth"
      ],
      "execution_count": 22,
      "outputs": []
    },
    {
      "cell_type": "code",
      "metadata": {
        "colab": {
          "base_uri": "https://localhost:8080/"
        },
        "id": "pDoupV31D3SL",
        "outputId": "c134a553-4fed-450e-a12a-da4f8713e2bb"
      },
      "source": [
        "arbol1 = NodoBinario(\"R\", NodoBinario(\"C\"), NodoBinario(\"H\"))\n",
        "print(arbol1.rigth.data)\n",
        "\n",
        "arbol2 = NodoTernario(4,NodoTernario(3,\\\n",
        "        NodoTernario(5,left=NodoTernario(2)),\\\n",
        "        NodoTernario(5),NodoTernario(2)) , None ,NodoTernario(5))\n",
        "\n",
        "print(arbol2.left.rigth.data)\n",
        "print(arbol2.data)\n",
        "print(arbol2.left.center.data)\n",
        "print(arbol2.rigth.left) # Al imprimir algo que no hay da None \n",
        "print(arbol2.left.left.left.data) \n",
        "print(\"--- sin usar la palabra left en el print ---\")\n",
        "ejemplo = arbol2.left.left.left.data\n",
        "print(ejemplo)\n",
        "print(\"--- otra forma ? ---\")\n",
        "aux = arbol2\n",
        "while( aux.left != None):\n",
        "    aux = aux.left\n",
        "print(aux.data)\n",
        "\n",
        "\n"
      ],
      "execution_count": 23,
      "outputs": [
        {
          "output_type": "stream",
          "name": "stdout",
          "text": [
            "H\n",
            "2\n",
            "4\n",
            "5\n",
            "None\n",
            "2\n",
            "--- sin usar la palabra left en el print ---\n",
            "2\n",
            "--- otra forma ? ---\n",
            "2\n"
          ]
        }
      ]
    },
    {
      "cell_type": "code",
      "metadata": {
        "colab": {
          "base_uri": "https://localhost:8080/"
        },
        "id": "le7nktfEHlfj",
        "outputId": "dede98e5-3e62-43f7-9a17-021394a718d0"
      },
      "source": [
        "root = NodoBinario(\"Santi\",None,NodoBinario(\"Jesus\",NodoBinario(\"Pedro\",None,NodoBinario(\"Pedro jr\"))))\n",
        "print(root.rigth.left.rigth.data)"
      ],
      "execution_count": 25,
      "outputs": [
        {
          "output_type": "stream",
          "name": "stdout",
          "text": [
            "Pedro jr\n"
          ]
        }
      ]
    }
  ]
}