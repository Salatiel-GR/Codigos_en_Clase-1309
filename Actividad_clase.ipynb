{
  "nbformat": 4,
  "nbformat_minor": 0,
  "metadata": {
    "colab": {
      "name": "Actividad_clase.ipynb",
      "provenance": [],
      "authorship_tag": "ABX9TyP6O7T7bebi29DdL1zHIPFG",
      "include_colab_link": true
    },
    "kernelspec": {
      "name": "python3",
      "display_name": "Python 3"
    },
    "language_info": {
      "name": "python"
    }
  },
  "cells": [
    {
      "cell_type": "markdown",
      "metadata": {
        "id": "view-in-github",
        "colab_type": "text"
      },
      "source": [
        "<a href=\"https://colab.research.google.com/github/Salatiel-GR/Codigos_en_Clase-1309/blob/main/Actividad_clase.ipynb\" target=\"_parent\"><img src=\"https://colab.research.google.com/assets/colab-badge.svg\" alt=\"Open In Colab\"/></a>"
      ]
    },
    {
      "cell_type": "code",
      "metadata": {
        "colab": {
          "base_uri": "https://localhost:8080/"
        },
        "id": "Fsb7eJtymZ26",
        "outputId": "f7d4a00b-8d75-46ac-93d5-904dee311712"
      },
      "source": [
        "!cat junio.dat"
      ],
      "execution_count": null,
      "outputs": [
        {
          "output_type": "stream",
          "name": "stdout",
          "text": [
            "numero de trabajador, nombres, paterno, materno, horas extra, sueldo base, año de ingreso\r\n",
            "2345,CARLOS,PEREZ,CASTILLO,0,9850,2017\r\n",
            "5754,ANGEL,GOMEZ,GARRIDO,1,9850,2020\r\n",
            "5345,JESUS,MARTIN,SANTOS,2,9850,2016\r\n",
            "3267,DAVID,JIMENEZ,LOZANO,2,9850,2017\r\n",
            "8765,PEDRO,RUIZ,GUERRERO,2,9850,2017\r\n",
            "5454,DANIEL,HERNANDEZ,CANO,3,9850,2018\r\n",
            "3456,ALEJANDRO,DIAZ,PRIETO,2,9850,2018\r\n",
            "3445,MARIA,MORENO,MENDEZ,1,9850,2018\r\n",
            "9088,ALBERTO,MU�OZ,CRUZ,1,9850,2017\r\n",
            "8877,RAFAEL,ALVAREZ,FLORES,2,9850,2017\r\n",
            "6767,FERNANDO,ROMERO,HERRERA,4,9850,2019\r\n",
            "5654,PABLO,ALONSO,GALLEGO,1,9850,2019\r\n",
            "4323,JORGE,GUTIERREZ,MARQUEZ,2,9850,2020\r\n",
            "2232,RAMON,NAVARRO,LEON,1,9850,2016"
          ]
        }
      ]
    },
    {
      "cell_type": "code",
      "metadata": {
        "colab": {
          "base_uri": "https://localhost:8080/"
        },
        "id": "pPUhb9yam_tb",
        "outputId": "618d4eed-681d-4f16-c19e-2c35bdbaca2b"
      },
      "source": [
        "archivo = open('junio.dat' , 'rt' , encoding='latin-1')\n",
        "print (archivo.read())"
      ],
      "execution_count": null,
      "outputs": [
        {
          "output_type": "stream",
          "name": "stdout",
          "text": [
            "numero de trabajador, nombres, paterno, materno, horas extra, sueldo base, aÃ±o de ingreso\n",
            "2345,CARLOS,PEREZ,CASTILLO,0,9850,2017\n",
            "5754,ANGEL,GOMEZ,GARRIDO,1,9850,2020\n",
            "5345,JESUS,MARTIN,SANTOS,2,9850,2016\n",
            "3267,DAVID,JIMENEZ,LOZANO,2,9850,2017\n",
            "8765,PEDRO,RUIZ,GUERRERO,2,9850,2017\n",
            "5454,DANIEL,HERNANDEZ,CANO,3,9850,2018\n",
            "3456,ALEJANDRO,DIAZ,PRIETO,2,9850,2018\n",
            "3445,MARIA,MORENO,MENDEZ,1,9850,2018\n",
            "9088,ALBERTO,MUOZ,CRUZ,1,9850,2017\n",
            "8877,RAFAEL,ALVAREZ,FLORES,2,9850,2017\n",
            "6767,FERNANDO,ROMERO,HERRERA,4,9850,2019\n",
            "5654,PABLO,ALONSO,GALLEGO,1,9850,2019\n",
            "4323,JORGE,GUTIERREZ,MARQUEZ,2,9850,2020\n",
            "2232,RAMON,NAVARRO,LEON,1,9850,2016\n"
          ]
        }
      ]
    },
    {
      "cell_type": "code",
      "metadata": {
        "id": "_yHeOfprn5V8"
      },
      "source": [
        "class Trabajador:\n",
        "    def_init_(self ,  nt , nom , pat , mat , he , sb , ai):\n",
        "        self._numero_trabajador = nt \n",
        "        self._nombres = nom\n",
        "        self._paterno = pat\n",
        "        self._materno = mat\n",
        "        self._horas_extra = he \n",
        "        self._sueldo:base = sb\n",
        "        self._anio_de_ingreso = ai \n",
        "        #asi para todos los atributos\n",
        "     #Aqui van todos los metodos de acceso\n",
        "     def set_numero_trabajador(self , nt):\n",
        "         self._numero_trabajador = nt \n",
        "    # metodos de uso general . ----> metodos que hacen calculos de la logi\n"
      ],
      "execution_count": null,
      "outputs": []
    },
    {
      "cell_type": "code",
      "metadata": {
        "id": "x4uO5GLFqF3x"
      },
      "source": [
        "class NominaADT:\n",
        "    def __init__(self , ruta_archivo):\n",
        "    #abrir el archivo y determinar num de empleados ----->num_emp\n",
        "    self.__data = Array( num_emp )\n",
        "    def calcular_sueldos (self):\n",
        "        #iterar sobre el Array y hacer el calculo de sueldos\n",
        "    def buscar_mas_antiguo(self):\n",
        "        #iterar y buscaren el Array el de mayor antiguedad en el puesto\n",
        "\n",
        "    def buscar_menor_antiguedad(self):\n",
        "        #iterar y buscaren el Array el de menor antiguedad en el puesto\n"
      ],
      "execution_count": null,
      "outputs": []
    },
    {
      "cell_type": "code",
      "metadata": {
        "colab": {
          "base_uri": "https://localhost:8080/"
        },
        "id": "qxA4cuVLr81j",
        "outputId": "bd7da3cb-08b9-419a-f388-d8c72cd6a667"
      },
      "source": [
        "sueldo_base = 100\n",
        "anio = 2019\n",
        "anti = 2\n",
        "prestacion = 100*(2*0.03)\n",
        "print(sueldo_base + prestacion)"
      ],
      "execution_count": null,
      "outputs": [
        {
          "output_type": "stream",
          "name": "stdout",
          "text": [
            "106.0\n"
          ]
        }
      ]
    }
  ]
}